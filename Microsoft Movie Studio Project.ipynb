{
 "cells": [
  {
   "cell_type": "markdown",
   "metadata": {},
   "source": [
    "# Final Project Submission\n",
    "\n",
    "Please fill out:\n",
    "* **Student name:** Shayan Abdul Karim Khan\n",
    "* **Student pace:** Self Paced\n",
    "* **Scheduled project review date/time:** \n",
    "* **Instructor name:** Abhineet Kulkarni\n",
    "* **Blog post URL:** \n"
   ]
  },
  {
   "cell_type": "markdown",
   "metadata": {},
   "source": [
    "## Problem Overview"
   ]
  },
  {
   "cell_type": "markdown",
   "metadata": {},
   "source": [
    "#### Venture Opportunity:\n",
    "A lot of companies are producing original video content generating huge revenues, including box office movies. In the post-pandemic world, people have filled theaters and cinema halls allowing top movies to rack up millions in box office revenues."
   ]
  },
  {
   "cell_type": "markdown",
   "metadata": {},
   "source": [
    "#### Client Insight:\n",
    "Microsoft has decided to venture into the world of movie production with a new movie studio. In order to make the movie studio a success, Microsoft needs to understand what kind of movies to produce. "
   ]
  },
  {
   "cell_type": "markdown",
   "metadata": {},
   "source": [
    "#### Client Goals:\n",
    "This notebook focuses on four client goals:\n",
    "1. High profits \n",
    "2. Developing a fan base \n",
    "3. Developing customer loyalty \n",
    "4. Impactful market entry \n",
    "\n",
    "The Value proposition of how this notebook will help the client achieve these goals is listed below in the [Value Proposition](#Value-Proposition) and [Strategy](#Strategy) sections."
   ]
  },
  {
   "cell_type": "markdown",
   "metadata": {},
   "source": [
    "#### Value Proposition:\n",
    "This notebook will look at multiple sources of data to understand what will allow Microsoft to generate the most promising content and set it up for long-term success. The strategy described below will be used to generate actionable insight based on two main Key Performance Indicators (KPIs):\n",
    "<br>\n",
    "1. *Movie Reviews*\n",
    "2. *Movie Profits*"
   ]
  },
  {
   "cell_type": "markdown",
   "metadata": {},
   "source": [
    "\n",
    "## Strategy"
   ]
  },
  {
   "cell_type": "markdown",
   "metadata": {},
   "source": [
    "To answer the complex question of the secret ingredients of a successful movie, there's a myriad of aspects to consider. The different aspects analyzed will be evaluated based on the two KPIs listed above; Profits and reviews. \n",
    "\n",
    "Good **Movie Reviews** are important indicators of the quality of a movie nonetheless they can not solely justify an investment opportunity. Therefore **Movie Profits** will be used as an indicator of high potential investment opportunities. The two KPIs coupled together can give the client a more thorough lay of the land. \n",
    "\n",
    "These KPIs will be analyzed through three main factors:\n",
    "\n",
    "1. Customer Influences\n",
    "2. Competition Awareness\n",
    "3. Financial Impact\n",
    "\n",
    "\n",
    "The aspects that will be explored under these segments are listed below in no specific order of importance:"
   ]
  },
  {
   "cell_type": "markdown",
   "metadata": {},
   "source": [
    "1. **Customer Influences:**\n",
    "\n",
    "    It is important to understand the customer base to target and how different factors influence their behavior. This will ensure that the client produces movies that customers will be willing to invest in. Targetting the customer properly is the most important part in ensuring a thriving fan base, growing customer loyalty and having an impactful market entry. Custommer saatisfaction is directly correlated with profits and better reviews which will allow long-term success.\n",
    "\n",
    "    The factors investigated in this segment are the following:\n",
    "    * Genres\n",
    "    * Movie Ratings (R/PG/etc)\n",
    "    * Reviews\n",
    "    * Run Time\n",
    "    * Initial Screening Year\n",
    "    * Cast\n",
    "    * Directors"
   ]
  },
  {
   "cell_type": "markdown",
   "metadata": {},
   "source": [
    "2. **Competition Awareness:**\n",
    "\n",
    "    It is critical to understand the current market competition to set the client up for success. Understanding the compeition can provide insight into barriers to entry in specific genres. It can also provide an outlook on custmer acquisation potential in scenarios where there is direct compeition with another well-established movie house.\n",
    "    \n",
    "    The factors investigated in this segment are the following:\n",
    "    * Market share by Revenue\n",
    "    * Market share by Profit\n",
    "    * Market share by Genre\n",
    "    * Performance in local vs foreign markets"
   ]
  },
  {
   "cell_type": "markdown",
   "metadata": {},
   "source": [
    "3. **Financial Impact:**\n",
    "\n",
    "    The financial aspect of venturing into a new business an essential area to evaluate. Understanding the investment required and the expected profits can allow the client to have realistic expectations and forecasting. \n",
    "    \n",
    "    The factors investigated in this segment are the following:\n",
    "    * Movie Budgets\n",
    "    * Net Profits\n",
    "    * Rate of Return"
   ]
  },
  {
   "cell_type": "markdown",
   "metadata": {},
   "source": [
    "## Data Background"
   ]
  },
  {
   "cell_type": "markdown",
   "metadata": {},
   "source": []
  },
  {
   "cell_type": "markdown",
   "metadata": {},
   "source": [
    "## Data Understanding"
   ]
  },
  {
   "cell_type": "markdown",
   "metadata": {},
   "source": [
    "## Data Preparation"
   ]
  },
  {
   "cell_type": "markdown",
   "metadata": {},
   "source": [
    "## Data Analysis"
   ]
  },
  {
   "cell_type": "markdown",
   "metadata": {},
   "source": [
    "## Results"
   ]
  },
  {
   "cell_type": "markdown",
   "metadata": {},
   "source": [
    "## Conclusion"
   ]
  },
  {
   "cell_type": "markdown",
   "metadata": {},
   "source": [
    "## Recommendation"
   ]
  },
  {
   "cell_type": "code",
   "execution_count": null,
   "metadata": {},
   "outputs": [],
   "source": [
    "# Your code here - remember to use markdown cells for comments as well!"
   ]
  }
 ],
 "metadata": {
  "kernelspec": {
   "display_name": "Python 3 (ipykernel)",
   "language": "python",
   "name": "python3"
  },
  "language_info": {
   "codemirror_mode": {
    "name": "ipython",
    "version": 3
   },
   "file_extension": ".py",
   "mimetype": "text/x-python",
   "name": "python",
   "nbconvert_exporter": "python",
   "pygments_lexer": "ipython3",
   "version": "3.9.12"
  }
 },
 "nbformat": 4,
 "nbformat_minor": 2
}
