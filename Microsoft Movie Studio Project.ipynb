{
 "cells": [
  {
   "cell_type": "markdown",
   "metadata": {},
   "source": [
    "# Final Project Submission\n",
    "\n",
    "Please fill out:\n",
    "* **Student name:** Shayan Abdul Karim Khan\n",
    "* **Student pace:** Self Paced\n",
    "* **Scheduled project review date/time:** \n",
    "* **Instructor name:** Abhineet Kulkarni\n",
    "* **Blog post URL:** \n"
   ]
  },
  {
   "cell_type": "markdown",
   "metadata": {},
   "source": [
    "## Problem Overview"
   ]
  },
  {
   "cell_type": "markdown",
   "metadata": {},
   "source": [
    "#### Venture Opportunity:\n",
    "A lot of companies are producing original video content generating huge revenues, including box office movies. In the post-pandemic world, people have filled theaters and cinema halls allowing top movies to rack up millions in box office revenues."
   ]
  },
  {
   "cell_type": "markdown",
   "metadata": {},
   "source": [
    "#### Client Insight:\n",
    "Microsoft has decided to venture into the world of movie production with a new movie studio. In order to make the movie studio a success, Microsoft needs to understand what kind of movies to produce. "
   ]
  },
  {
   "cell_type": "markdown",
   "metadata": {},
   "source": [
    "#### Client Goals:\n",
    "This notebook focuses on four client goals:\n",
    "1. High profits \n",
    "2. Developing a fan base \n",
    "3. Developing customer loyalty \n",
    "4. Impactful market entry \n",
    "\n",
    "The Value proposition of how this notebook will help the client achieve these goals is listed below in the [Value Proposition](#Value-Proposition) and [Strategy](#Strategy) sections."
   ]
  },
  {
   "cell_type": "markdown",
   "metadata": {},
   "source": [
    "#### Value Proposition:\n",
    "This notebook will look at multiple sources of data to understand what will allow Microsoft to generate the most promising content and set it up for long-term success. The strategy described below will be used to generate actionable insight based on two main Key Performance Indicators (KPIs):\n",
    "<br>\n",
    "1. *Movie Reviews*\n",
    "2. *Movie Profits*"
   ]
  },
  {
   "cell_type": "markdown",
   "metadata": {},
   "source": [
    "\n",
    "## Strategy"
   ]
  },
  {
   "cell_type": "markdown",
   "metadata": {},
   "source": [
    "To answer the complex question of the secret ingredients of a successful movie, there's a myriad of aspects to consider. The different aspects analyzed will be evaluated based on the two KPIs listed above; Profits and reviews. \n",
    "\n",
    "Good **Movie Reviews** are important indicators of the quality of a movie nonetheless they can not solely justify an investment opportunity. Therefore **Movie Profits** will be used as an indicator of high potential investment opportunities. The two KPIs coupled together can give the client a more thorough lay of the land. \n",
    "\n",
    "These KPIs will be analyzed through three main factors:\n",
    "\n",
    "1. Customer Influences\n",
    "2. Competition Awareness\n",
    "3. Financial Impact\n",
    "\n",
    "\n",
    "The aspects that will be explored under these segments are listed below in no specific order of importance:"
   ]
  },
  {
   "cell_type": "markdown",
   "metadata": {},
   "source": [
    "1. **Customer Influences:**\n",
    "\n",
    "    It is important to understand the customer base to target and how different factors influence their behavior. This will ensure that the client produces movies that customers will be willing to invest in. Targetting the customer properly is the most important part in ensuring a thriving fan base, growing customer loyalty and having an impactful market entry. Customer saatisfaction is directly correlated with profits and better reviews which will allow long-term success.\n",
    "\n",
    "    The factors investigated in this segment are the following:\n",
    "    * Genres\n",
    "    * Movie Ratings (R/PG/etc)\n",
    "    * Reviews\n",
    "    * Run Time\n",
    "    * Initial Screening Year\n",
    "    * Cast\n",
    "    * Directors"
   ]
  },
  {
   "cell_type": "markdown",
   "metadata": {},
   "source": [
    "2. **Competition Awareness:**\n",
    "\n",
    "    It is critical to understand the current market competition to set the client up for success. Understanding the compeition can provide insight into barriers to entry in specific genres. It can also provide an outlook on custmer acquisation potential in scenarios where there is direct compeition with another well-established movie house.\n",
    "    \n",
    "    The factors investigated in this segment are the following:\n",
    "    * Market share by Revenue\n",
    "    * Market share by Profit\n",
    "    * Market share by Genre\n",
    "    * Performance in local vs foreign markets"
   ]
  },
  {
   "cell_type": "markdown",
   "metadata": {},
   "source": [
    "3. **Financial Impact:**\n",
    "\n",
    "    The financial aspect of venturing into a new business an essential area to evaluate. Understanding the investment required and the expected profits can allow the client to have realistic expectations and forecasting. \n",
    "    \n",
    "    The factors investigated in this segment are the following:\n",
    "    * Movie Budgets\n",
    "    * Net Profits\n",
    "    * Rate of Return"
   ]
  },
  {
   "cell_type": "markdown",
   "metadata": {},
   "source": [
    "## Data Sources"
   ]
  },
  {
   "cell_type": "markdown",
   "metadata": {},
   "source": [
    "To solve the problem, there were 5 data sources used to conduct the analysis. The data sources are listed below:\n",
    "\n",
    "- **[Box Office Mojo](https://www.boxofficemojo.com/)**\n",
    "\n",
    "- **[The Numbers](https://www.the-numbers.com/)**\n",
    "\n",
    "- **[IMDB](https://www.imdb.com/)**\n",
    "\n",
    "- **[Rotten Tomatoes](https://www.rottentomatoes.com/)**\n",
    "\n",
    "- **[TheMovieDB](https://www.themoviedb.org/)**\n",
    "\n"
   ]
  },
  {
   "cell_type": "markdown",
   "metadata": {},
   "source": [
    "These data sources were selected based on reliability and content. These are some of the most popular websites for reviews, critics and movie information.\n",
    "\n",
    "The content and relevance of the data avaialble is dealt with in detail in the **Data Understanding** Section."
   ]
  },
  {
   "cell_type": "markdown",
   "metadata": {},
   "source": [
    "## Data Understanding"
   ]
  },
  {
   "cell_type": "markdown",
   "metadata": {},
   "source": [
    "This section decyphers the data being used explores the following:\n",
    "\n",
    "- Contents of the datasets\n",
    "- Features of the datasets\n",
    "- Relevance of the datasets to the project\n",
    "- Relevant features of the datasets that will be used for analysis\n",
    "- Relation between the different datasets\n",
    "- Limitations of the datasets\n",
    "- Avenues of analysis that will be pursued\n"
   ]
  },
  {
   "cell_type": "markdown",
   "metadata": {},
   "source": [
    "### Importing Python Libraries"
   ]
  },
  {
   "cell_type": "markdown",
   "metadata": {},
   "source": [
    "We will start by importing the appropriate python libraries to explore the datasets."
   ]
  },
  {
   "cell_type": "code",
   "execution_count": 47,
   "metadata": {},
   "outputs": [],
   "source": [
    "import pandas as pd #imports the pandas library as pd to work on databases\n",
    "import sqlite3 as sql # imports the sqlite3 library to leverage sql with pandas\n",
    "from pandasql import sqldf # imports pandas sql library\n",
    "import matplotlib.pyplot as plt # importing matplotlib for visualizations \n",
    "%matplotlib inline "
   ]
  },
  {
   "cell_type": "markdown",
   "metadata": {},
   "source": [
    "We will write the lambda function for sqldf to make things easier for us throughout the notebook."
   ]
  },
  {
   "cell_type": "code",
   "execution_count": 4,
   "metadata": {},
   "outputs": [],
   "source": [
    "pysqldf = lambda q: sqldf(q, globals())"
   ]
  },
  {
   "cell_type": "markdown",
   "metadata": {},
   "source": [
    "### Importing and Storing Data"
   ]
  },
  {
   "cell_type": "markdown",
   "metadata": {},
   "source": [
    "#### Box Office Mojo Dataset"
   ]
  },
  {
   "cell_type": "markdown",
   "metadata": {},
   "source": [
    "The **Box Office Mojo** dataset is stored in the `zippedData` folder. \n",
    "\n",
    "The file is called `bom.movie_gross.csv.gz`."
   ]
  },
  {
   "cell_type": "markdown",
   "metadata": {},
   "source": [
    "We can see from the extension that this dataset is a `CSV` file therefore we will use the read_csv function of pandas to explore this dataset."
   ]
  },
  {
   "cell_type": "code",
   "execution_count": 148,
   "metadata": {},
   "outputs": [
    {
     "data": {
      "text/html": [
       "<div>\n",
       "<style scoped>\n",
       "    .dataframe tbody tr th:only-of-type {\n",
       "        vertical-align: middle;\n",
       "    }\n",
       "\n",
       "    .dataframe tbody tr th {\n",
       "        vertical-align: top;\n",
       "    }\n",
       "\n",
       "    .dataframe thead th {\n",
       "        text-align: right;\n",
       "    }\n",
       "</style>\n",
       "<table border=\"1\" class=\"dataframe\">\n",
       "  <thead>\n",
       "    <tr style=\"text-align: right;\">\n",
       "      <th></th>\n",
       "      <th>title</th>\n",
       "      <th>studio</th>\n",
       "      <th>domestic_gross</th>\n",
       "      <th>foreign_gross</th>\n",
       "      <th>year</th>\n",
       "    </tr>\n",
       "  </thead>\n",
       "  <tbody>\n",
       "    <tr>\n",
       "      <th>0</th>\n",
       "      <td>Toy Story 3</td>\n",
       "      <td>BV</td>\n",
       "      <td>415000000.0</td>\n",
       "      <td>652000000</td>\n",
       "      <td>2010</td>\n",
       "    </tr>\n",
       "    <tr>\n",
       "      <th>1</th>\n",
       "      <td>Alice in Wonderland (2010)</td>\n",
       "      <td>BV</td>\n",
       "      <td>334200000.0</td>\n",
       "      <td>691300000</td>\n",
       "      <td>2010</td>\n",
       "    </tr>\n",
       "    <tr>\n",
       "      <th>2</th>\n",
       "      <td>Harry Potter and the Deathly Hallows Part 1</td>\n",
       "      <td>WB</td>\n",
       "      <td>296000000.0</td>\n",
       "      <td>664300000</td>\n",
       "      <td>2010</td>\n",
       "    </tr>\n",
       "    <tr>\n",
       "      <th>3</th>\n",
       "      <td>Inception</td>\n",
       "      <td>WB</td>\n",
       "      <td>292600000.0</td>\n",
       "      <td>535700000</td>\n",
       "      <td>2010</td>\n",
       "    </tr>\n",
       "    <tr>\n",
       "      <th>4</th>\n",
       "      <td>Shrek Forever After</td>\n",
       "      <td>P/DW</td>\n",
       "      <td>238700000.0</td>\n",
       "      <td>513900000</td>\n",
       "      <td>2010</td>\n",
       "    </tr>\n",
       "  </tbody>\n",
       "</table>\n",
       "</div>"
      ],
      "text/plain": [
       "                                         title studio  domestic_gross  \\\n",
       "0                                  Toy Story 3     BV     415000000.0   \n",
       "1                   Alice in Wonderland (2010)     BV     334200000.0   \n",
       "2  Harry Potter and the Deathly Hallows Part 1     WB     296000000.0   \n",
       "3                                    Inception     WB     292600000.0   \n",
       "4                          Shrek Forever After   P/DW     238700000.0   \n",
       "\n",
       "  foreign_gross  year  \n",
       "0     652000000  2010  \n",
       "1     691300000  2010  \n",
       "2     664300000  2010  \n",
       "3     535700000  2010  \n",
       "4     513900000  2010  "
      ]
     },
     "execution_count": 148,
     "metadata": {},
     "output_type": "execute_result"
    }
   ],
   "source": [
    "bom_df = pd.read_csv('bom.movie_gross.csv.gz') # reading the data and converting to a dataframe\n",
    "\n",
    "bom_df.head() # Previewing the data"
   ]
  },
  {
   "cell_type": "markdown",
   "metadata": {},
   "source": [
    "Lets look at the overview of the data frame using the `.info()` function"
   ]
  },
  {
   "cell_type": "code",
   "execution_count": 140,
   "metadata": {},
   "outputs": [
    {
     "name": "stdout",
     "output_type": "stream",
     "text": [
      "<class 'pandas.core.frame.DataFrame'>\n",
      "RangeIndex: 3387 entries, 0 to 3386\n",
      "Data columns (total 5 columns):\n",
      " #   Column          Non-Null Count  Dtype  \n",
      "---  ------          --------------  -----  \n",
      " 0   title           3387 non-null   object \n",
      " 1   studio          3382 non-null   object \n",
      " 2   domestic_gross  3359 non-null   float64\n",
      " 3   foreign_gross   2037 non-null   object \n",
      " 4   year            3387 non-null   int64  \n",
      "dtypes: float64(1), int64(1), object(3)\n",
      "memory usage: 132.4+ KB\n"
     ]
    }
   ],
   "source": [
    "bom_df.info() # getting the overvieww info of the dataframe records"
   ]
  },
  {
   "cell_type": "markdown",
   "metadata": {},
   "source": [
    "There are **five** columns excluding the index column:\n",
    "\n",
    "- `title` : This is the movie title. It is an important column because it shows which movie the record is for. This will be valuable in comparing/merging data to give more context to the analysis.\n",
    "<br>\n",
    "\n",
    "- `studio` : This gives an outlook on the competitors in the market. This will be valuable in doing competitor awareness analysis.\n",
    "<br>\n",
    "\n",
    "- `domestic_gross` : This data is particularly important because it provides the financial overview within the US market. Since there is no currency sign associated, we will assume `$` but more on that in the **Data Prepartion** section.\n",
    "<br>\n",
    "\n",
    "- `foreign_gross` : This is similar to `domestic gross` and equall valuable. It provides insights on foreign performance of a movie.\n",
    "<br>\n",
    "\n",
    "- `year` : This is the year that the movie was released. It is important to keep the year in mind so that the analysis isn't skewed. We will later evaluate which timelines to focus on for the analysis."
   ]
  },
  {
   "cell_type": "markdown",
   "metadata": {},
   "source": [
    "There are `3387` records in total in this dataset which is a good size for our analysis. \n",
    "\n",
    "Nonetheless, lets explore the distribution of the `year` column to understand the spread of the data to ensure that the timeline we want to look isn't skewed."
   ]
  },
  {
   "cell_type": "code",
   "execution_count": 141,
   "metadata": {},
   "outputs": [],
   "source": [
    "# getting the counts for the unique values in the year column\n",
    "\n",
    "bom_unique_value_counts = bom_df['year'].value_counts(sort=False) "
   ]
  },
  {
   "cell_type": "code",
   "execution_count": 142,
   "metadata": {},
   "outputs": [
    {
     "name": "stdout",
     "output_type": "stream",
     "text": [
      "2010    328\n",
      "2011    399\n",
      "2012    400\n",
      "2013    350\n",
      "2014    395\n",
      "2015    450\n",
      "2016    436\n",
      "2017    321\n",
      "2018    308\n",
      "Name: year, dtype: int64\n"
     ]
    }
   ],
   "source": [
    "print(bom_unique_value_counts)"
   ]
  },
  {
   "cell_type": "markdown",
   "metadata": {},
   "source": [
    "We can see that the data is between **2010** and **2018** with a very good distribution. This allows us to choose our timelines without fear of loosing data or skewing the results."
   ]
  },
  {
   "cell_type": "markdown",
   "metadata": {},
   "source": [
    "Also, this dataset has some values missing.\n",
    "\n",
    "- `studio` column has 5 missing values which we can drop since it will have an insignificant on impact the total number of records but we will take a look at the records we are dropping in the **Data Preparation** section.\n",
    "\n",
    "- `foreign gross` column has more than 1000 missing values. We will correlate this with data we find from other datasets to understand whether these movies weren't launched in foregin markets or is there a gap in our data. Also, we can use the different datasets to fill in this information if we do find an inconsistency. This is why we are using multiple dataasets. We will explore this more in the **Data Preparation** section."
   ]
  },
  {
   "cell_type": "markdown",
   "metadata": {},
   "source": [
    "**Summary:** The **Box Office Mojo** data will be very valuable in our analysis of the **Competition Awareness** and **Financial Impact** analaysis."
   ]
  },
  {
   "cell_type": "markdown",
   "metadata": {},
   "source": [
    "#### The Numbers Dataset"
   ]
  },
  {
   "cell_type": "markdown",
   "metadata": {},
   "source": [
    "This dataset is stored in the `zippedData` folder. \n",
    "\n",
    "The file is called `tn.movie_budgets.csv.gz`."
   ]
  },
  {
   "cell_type": "markdown",
   "metadata": {},
   "source": [
    "We can see from the extension that this dataset is a `CSV` file therefore we will use the `pd.read_csv()` function of pandas to explore this dataset."
   ]
  },
  {
   "cell_type": "code",
   "execution_count": 149,
   "metadata": {},
   "outputs": [
    {
     "data": {
      "text/html": [
       "<div>\n",
       "<style scoped>\n",
       "    .dataframe tbody tr th:only-of-type {\n",
       "        vertical-align: middle;\n",
       "    }\n",
       "\n",
       "    .dataframe tbody tr th {\n",
       "        vertical-align: top;\n",
       "    }\n",
       "\n",
       "    .dataframe thead th {\n",
       "        text-align: right;\n",
       "    }\n",
       "</style>\n",
       "<table border=\"1\" class=\"dataframe\">\n",
       "  <thead>\n",
       "    <tr style=\"text-align: right;\">\n",
       "      <th></th>\n",
       "      <th>id</th>\n",
       "      <th>release_date</th>\n",
       "      <th>movie</th>\n",
       "      <th>production_budget</th>\n",
       "      <th>domestic_gross</th>\n",
       "      <th>worldwide_gross</th>\n",
       "    </tr>\n",
       "  </thead>\n",
       "  <tbody>\n",
       "    <tr>\n",
       "      <th>0</th>\n",
       "      <td>1</td>\n",
       "      <td>Dec 18, 2009</td>\n",
       "      <td>Avatar</td>\n",
       "      <td>$425,000,000</td>\n",
       "      <td>$760,507,625</td>\n",
       "      <td>$2,776,345,279</td>\n",
       "    </tr>\n",
       "    <tr>\n",
       "      <th>1</th>\n",
       "      <td>2</td>\n",
       "      <td>May 20, 2011</td>\n",
       "      <td>Pirates of the Caribbean: On Stranger Tides</td>\n",
       "      <td>$410,600,000</td>\n",
       "      <td>$241,063,875</td>\n",
       "      <td>$1,045,663,875</td>\n",
       "    </tr>\n",
       "    <tr>\n",
       "      <th>2</th>\n",
       "      <td>3</td>\n",
       "      <td>Jun 7, 2019</td>\n",
       "      <td>Dark Phoenix</td>\n",
       "      <td>$350,000,000</td>\n",
       "      <td>$42,762,350</td>\n",
       "      <td>$149,762,350</td>\n",
       "    </tr>\n",
       "    <tr>\n",
       "      <th>3</th>\n",
       "      <td>4</td>\n",
       "      <td>May 1, 2015</td>\n",
       "      <td>Avengers: Age of Ultron</td>\n",
       "      <td>$330,600,000</td>\n",
       "      <td>$459,005,868</td>\n",
       "      <td>$1,403,013,963</td>\n",
       "    </tr>\n",
       "    <tr>\n",
       "      <th>4</th>\n",
       "      <td>5</td>\n",
       "      <td>Dec 15, 2017</td>\n",
       "      <td>Star Wars Ep. VIII: The Last Jedi</td>\n",
       "      <td>$317,000,000</td>\n",
       "      <td>$620,181,382</td>\n",
       "      <td>$1,316,721,747</td>\n",
       "    </tr>\n",
       "  </tbody>\n",
       "</table>\n",
       "</div>"
      ],
      "text/plain": [
       "   id  release_date                                        movie  \\\n",
       "0   1  Dec 18, 2009                                       Avatar   \n",
       "1   2  May 20, 2011  Pirates of the Caribbean: On Stranger Tides   \n",
       "2   3   Jun 7, 2019                                 Dark Phoenix   \n",
       "3   4   May 1, 2015                      Avengers: Age of Ultron   \n",
       "4   5  Dec 15, 2017            Star Wars Ep. VIII: The Last Jedi   \n",
       "\n",
       "  production_budget domestic_gross worldwide_gross  \n",
       "0      $425,000,000   $760,507,625  $2,776,345,279  \n",
       "1      $410,600,000   $241,063,875  $1,045,663,875  \n",
       "2      $350,000,000    $42,762,350    $149,762,350  \n",
       "3      $330,600,000   $459,005,868  $1,403,013,963  \n",
       "4      $317,000,000   $620,181,382  $1,316,721,747  "
      ]
     },
     "execution_count": 149,
     "metadata": {},
     "output_type": "execute_result"
    }
   ],
   "source": [
    "tn_df = pd.read_csv('tn.movie_budgets.csv.gz') # reading the data and converting to a dataframe\n",
    "\n",
    "tn_df.head() # Previewing the data"
   ]
  },
  {
   "cell_type": "markdown",
   "metadata": {},
   "source": [
    "Lets continue to explore further with the `.info()` function"
   ]
  },
  {
   "cell_type": "code",
   "execution_count": 145,
   "metadata": {},
   "outputs": [
    {
     "name": "stdout",
     "output_type": "stream",
     "text": [
      "<class 'pandas.core.frame.DataFrame'>\n",
      "RangeIndex: 5782 entries, 0 to 5781\n",
      "Data columns (total 6 columns):\n",
      " #   Column             Non-Null Count  Dtype \n",
      "---  ------             --------------  ----- \n",
      " 0   id                 5782 non-null   int64 \n",
      " 1   release_date       5782 non-null   object\n",
      " 2   movie              5782 non-null   object\n",
      " 3   production_budget  5782 non-null   object\n",
      " 4   domestic_gross     5782 non-null   object\n",
      " 5   worldwide_gross    5782 non-null   object\n",
      "dtypes: int64(1), object(5)\n",
      "memory usage: 271.2+ KB\n"
     ]
    }
   ],
   "source": [
    "tn_df.info()"
   ]
  },
  {
   "cell_type": "markdown",
   "metadata": {},
   "source": [
    "There are **six** columns in this dataset with a total of `5782` records."
   ]
  },
  {
   "cell_type": "markdown",
   "metadata": {},
   "source": [
    "Lets explore the id column to understand more about it"
   ]
  },
  {
   "cell_type": "code",
   "execution_count": 154,
   "metadata": {
    "scrolled": true
   },
   "outputs": [
    {
     "data": {
      "text/plain": [
       "1      58\n",
       "63     58\n",
       "61     58\n",
       "60     58\n",
       "59     58\n",
       "       ..\n",
       "86     57\n",
       "85     57\n",
       "84     57\n",
       "83     57\n",
       "100    57\n",
       "Name: id, Length: 100, dtype: int64"
      ]
     },
     "execution_count": 154,
     "metadata": {},
     "output_type": "execute_result"
    }
   ],
   "source": [
    "# getting the counts for the unique values in the id column\n",
    "\n",
    "tn_df['id'].value_counts() "
   ]
  },
  {
   "cell_type": "markdown",
   "metadata": {},
   "source": [
    "It is difficult to guage what the `id` column is doing in this dataset. Looking at other datasets might give us better insight."
   ]
  },
  {
   "cell_type": "markdown",
   "metadata": {},
   "source": [
    "Lets check whether the `worldwide_gross` column is a sum of `domestic_gross` and foreign revenue or does it purel signify foreign revenue. For this we will compare values of the same movies between `bom_df` and `tn_df`"
   ]
  },
  {
   "cell_type": "code",
   "execution_count": 189,
   "metadata": {
    "scrolled": false
   },
   "outputs": [
    {
     "name": "stdout",
     "output_type": "stream",
     "text": [
      "tn_df avengers record:\n",
      " id                                         4\n",
      "release_date                     May 1, 2015\n",
      "movie                Avengers: Age of Ultron\n",
      "production_budget               $330,600,000\n",
      "domestic_gross                  $459,005,868\n",
      "worldwide_gross               $1,403,013,963\n",
      "Name: 3, dtype: object\n",
      "\n",
      "bom_df avengers record:\n",
      " studio                     BV\n",
      "domestic_gross    459000000.0\n",
      "foreign_gross       946400000\n",
      "year                     2015\n",
      "Name: Avengers: Age of Ultron, dtype: object\n"
     ]
    }
   ],
   "source": [
    "# extracting the Avengers record of tn_df\n",
    "avengers_tn = tn_df.iloc[3] \n",
    "\n",
    "# extracting the Avengers record of bom_df by setting\n",
    "# the index to title and searching for the specific title\n",
    "\n",
    "avengers_bom = bom_df.set_index('title').loc['Avengers: Age of Ultron'] \n",
    "\n",
    "# printing the respective records\n",
    "print('tn_df avengers record:\\n', avengers_tn)\n",
    "print('\\nbom_df avengers record:\\n', avengers_bom)"
   ]
  },
  {
   "cell_type": "code",
   "execution_count": 244,
   "metadata": {},
   "outputs": [
    {
     "data": {
      "text/plain": [
       "True"
      ]
     },
     "execution_count": 244,
     "metadata": {},
     "output_type": "execute_result"
    }
   ],
   "source": [
    "round(avengers_bom['domestic_gross'].astype('int32') + int(avengers_bom['foreign_gross']),-8) == round(int(avengers_tn['worldwide_gross'].replace(',','' ).replace('$','')), -8)"
   ]
  },
  {
   "cell_type": "markdown",
   "metadata": {},
   "source": [
    "From the above True statement we can deduce that the `worldwide_gross` in `tn_df` is indeed the sum of `domestic_gross` and `foreign_gross` of the `bom_df` dataframe.\n",
    "\n",
    "With that in mind, a brief overview of the colummns in the `tn_df` dataframe is as follows:"
   ]
  },
  {
   "cell_type": "markdown",
   "metadata": {},
   "source": [
    "- `id` : This might be a secondary key of the dataset which we'll explore more when looking at the other datasets.\n",
    "<br>\n",
    "\n",
    "- `release_date` : This is the release date of the movie and wwould be valuable in performing analysis against yearly trends. This column can also be helpful to compare/group with the `bom_df` data.\n",
    "<br>\n",
    "\n",
    "- `movie` : This is the movie name which shows which movie the record is for.\n",
    "<br>\n",
    "\n",
    "- `production_budget` : This column is important in understanding the initial investments that have to be made by the client. This will also allow us to calculate the net profits and rate of return.\n",
    "<br>\n",
    "\n",
    "- `domestic-gross` : Similar to `bom_df`, this column provides insight into the revenue generated in the US market by the movie.\n",
    "<br>\n",
    "\n",
    "- `worldwide-gross` : This is slightly different than the `foreign_gross` column of `bom_df` because it adds up the domestic gross of the movie and provides the total revenue for the movie. Depending on further exploration below, we might be able to drop the `domestic_gross` and `foreign_gross` columns in `bom_df`."
   ]
  },
  {
   "cell_type": "markdown",
   "metadata": {},
   "source": [
    "An important thing to note is that `tn_df` has `5782` records while `bom_df` has `3378`. \n"
   ]
  },
  {
   "cell_type": "markdown",
   "metadata": {},
   "source": [
    "**Summary:** `tn_df` has similar data bins(i.e. columns) as `bom_df` but more records. The latter dataframe is not entirely composed of the same records as the former one therefore during **Data Preparation**, it will be important to join the two dataframes. \n",
    "\n",
    "Nonethelss, `tn_df` adds similar value to the **Financial Impact** analysis as `bom_df`, increasing the sample size for our analaysis."
   ]
  },
  {
   "cell_type": "markdown",
   "metadata": {},
   "source": [
    "## Data Preparation"
   ]
  },
  {
   "cell_type": "markdown",
   "metadata": {},
   "source": [
    "## Data Analysis"
   ]
  },
  {
   "cell_type": "markdown",
   "metadata": {},
   "source": [
    "## Results"
   ]
  },
  {
   "cell_type": "markdown",
   "metadata": {},
   "source": [
    "## Conclusion"
   ]
  },
  {
   "cell_type": "markdown",
   "metadata": {},
   "source": [
    "## Recommendation"
   ]
  },
  {
   "cell_type": "code",
   "execution_count": null,
   "metadata": {},
   "outputs": [],
   "source": [
    "# Your code here - remember to use markdown cells for comments as well!"
   ]
  }
 ],
 "metadata": {
  "kernelspec": {
   "display_name": "Python 3 (ipykernel)",
   "language": "python",
   "name": "python3"
  },
  "language_info": {
   "codemirror_mode": {
    "name": "ipython",
    "version": 3
   },
   "file_extension": ".py",
   "mimetype": "text/x-python",
   "name": "python",
   "nbconvert_exporter": "python",
   "pygments_lexer": "ipython3",
   "version": "3.9.12"
  }
 },
 "nbformat": 4,
 "nbformat_minor": 2
}
